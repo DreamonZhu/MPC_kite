{
 "cells": [
  {
   "cell_type": "markdown",
   "metadata": {},
   "source": [
    "<table style=\"width:100%\"><tr>\n",
    "<td> \n",
    "    \n",
    "Technische Universität Berlin\\\n",
    "Electrical Engineering and Computer Science\\\n",
    "Internet of Things for Smart Buildings\\\n",
    "Prof. Dr. Sergio Lucia, Felix Fiedler, Benjamin Karg </td>\n",
    "<td>  <img src=\"logo_tu.png\" style=\"width: 20%;\" align=\"right\"/> </td>\n",
    "</tr>\n",
    "</table>\n",
    "\n",
    "***\n",
    "**MPC 2020 - Project 2B Kite**\n",
    "***\n",
    "\n",
    "\n",
    "# Discretization schemes for a towing kite\n",
    "\n",
    "In this exercise we will continue working with the Python library [CasADi](https://web.casadi.org/docs/)\n",
    "and use it to implement MPC for **a nonlinear continuous-time system**: \n",
    "\n",
    "$$\n",
    "\\dot x = f(x,u)\n",
    "$$\n",
    "\n",
    "Note that last week we dealt with the **linear discrete-time formulation**:\n",
    "\n",
    "$$\n",
    "x_{k+1} = Ax_k+Bu_k\n",
    "$$\n",
    "\n"
   ]
  },
  {
   "cell_type": "code",
   "execution_count": null,
   "metadata": {},
   "outputs": [],
   "source": []
  }
 ],
 "metadata": {
  "kernelspec": {
   "display_name": "Python 3.7 (Coiot 2019/20",
   "language": "python",
   "name": "py37_coiot"
  },
  "language_info": {
   "codemirror_mode": {
    "name": "ipython",
    "version": 3
   },
   "file_extension": ".py",
   "mimetype": "text/x-python",
   "name": "python",
   "nbconvert_exporter": "python",
   "pygments_lexer": "ipython3",
   "version": "3.6.9"
  }
 },
 "nbformat": 4,
 "nbformat_minor": 2
}
