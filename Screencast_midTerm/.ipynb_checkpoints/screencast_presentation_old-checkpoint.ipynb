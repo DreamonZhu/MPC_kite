{
 "cells": [
  {
   "cell_type": "markdown",
   "metadata": {},
   "source": [
    "<table style=\"width:100%\"><tr>\n",
    "<td> \n",
    "    \n",
    "Technische Universität Berlin\\\n",
    "Electrical Engineering and Computer Science\\\n",
    "Internet of Things for Smart Buildings\\\n",
    "Prof. Dr. Sergio Lucia, Felix Fiedler, Benjamin Karg </td>\n",
    "<td>  <img src=\"logo_tu.png\" style=\"width: 20%;\" align=\"right\"/> </td>\n",
    "</tr>\n",
    "</table>\n",
    "\n",
    "***\n",
    "**Model Predictive Control 2020**\n",
    "***\n",
    "\n",
    " <h1 style=\"font-size:40px;\">Project 2B - Discretization Schemes (Kite)</h1> \n",
    " \n",
    "Julia Graham, Tor Istvan, Raschid Younes \n",
    " <hr>\n",
    "\n",
    "\n",
    "\n"
   ]
  },
  {
   "cell_type": "markdown",
   "metadata": {},
   "source": [
    "## **1. Introduction** <a class=\"anchor\" id=\"intro\"></a>\n",
    "### **1.1 Problem Statement** <a class=\"anchor\" id=\"problem\"></a>\n",
    "\n",
    "In this project we are presented with a nonlinear model of a towing kite that pulls a boat to reduce fuel consumption. \n",
    "We aim to apply model predictive control to this problem using three different discretization schemes:\n",
    "\n",
    "- Implicit Euler\n",
    "- Orthogonal collocation\n",
    "- Single Shooting\n",
    "\n",
    "<img src=\"kite_structure.png\" alt=\"drawing\" width=\"500\"/>"
   ]
  },
  {
   "cell_type": "markdown",
   "metadata": {},
   "source": [
    "### **1.2 Model** <a class=\"anchor\" id=\"model\"></a>\n",
    "The states $x = [\\theta \\ \\phi \\ \\psi]^T$ in this model are two spherical angles and the yaw angle of the kite: \n",
    "- $\\theta$ ( zenith angle)\n",
    "- $\\phi$ (azimuth angle)\n",
    "- $\\psi$ (yaw angle)\n",
    "\n",
    "We assume here that all states can be measured, so there is no need to check observability and apply state estimation algorithms.\n",
    "\n",
    "The time continuous differential equations are given by\n",
    "$$ \\begin{align}\n",
    "\\dot{\\theta} &= \\frac{v_a}{L}(\\cos \\psi - \\frac{\\tan \\theta }{E}) \\\\\n",
    "\\dot{\\phi} &= - \\frac{v_a}{L \\sin \\theta} \\sin \\psi \\\\\n",
    "\\dot{\\psi} &= \\frac{v_a}{L} \\tilde{u} + \\dot{\\phi} \\cos \\theta \\end{align}$$\n",
    "\n",
    "\n",
    "summarizing the states by a nonlinear function $f$ gives the following:\n",
    "\n",
    "$$ \\dot{x} = f(x,u) = \n",
    "\\begin{pmatrix}\n",
    "\\frac{v_a}{L}(\\cos \\psi - \\frac{\\tan \\theta }{E}) \\\\\n",
    "- \\frac{v_a}{L \\sin \\theta} \\sin \\psi \\\\\n",
    "\\frac{v_a}{L} \\tilde{u} + \\dot{\\phi} \\cos \\theta\n",
    "\\end{pmatrix}$$"
   ]
  },
  {
   "cell_type": "markdown",
   "metadata": {},
   "source": [
    "## **2. Methodology** <a class=\"anchor\" id=\"method\"></a>\n",
    "\n",
    "\n",
    "### **2.1 Optimal Control Problem** <a class=\"anchor\" id=\"opt_prob\"></a>\n",
    "\n",
    "\n",
    "### **2.2 MPC Problem Formulation** <a class=\"anchor\" id=\"mpc_prob\"></a>\n",
    "\n",
    "The stage cost $L(x,u)$ contains the thrust which should be maximized and the second term describes the changes of the control input which should be minimized and results a smoothing trajectory. The signs represent here, if the term should be maximized or minimized.\n",
    "$$ L(x,u) = - w_F T_F + w_u (\\tilde{u} - \\tilde{u_{old}})^2 $$\n",
    "\n",
    "\n",
    "The most critical constraint is the height which is described by\n",
    "\n",
    "$$ h(x) = L \\sin \\theta \\cos \\phi $$\n",
    "\n",
    "The general discrete optimization problem should look like the following: \n",
    "\n",
    "$$\\begin{align} &\\mathop{\\mathrm{minimize}}_{u(k)} &\\sum_{k=0}^{N-1} L\\big(x(k),u(k)\\big)\\\\\n",
    "&\\text{subject to}\n",
    "& x_{k+1} = f(x(k,u(k)), \\ x(0) = x_0 \\\\\n",
    "& & h(x) \\geq h_{min}\\\\\n",
    "& & u(k) \\in \\mathbb{U}, \\ x(k) \\in \\mathbb{X} \\\\\n",
    "& & k \\in [0,N-1]\n",
    "\\end{align}$$\n",
    "\n",
    "### **2.3 Discretization Methods** <a class=\"anchor\" id=\"discr_method\"></a>\n",
    "\n",
    "#### **2.2.1 Implicit Euler** <a class=\"anchor\" id=\"impl_eu\"></a>\n",
    "\n",
    "#### **2.2.2 Single Shooting** <a class=\"anchor\" id=\"single_shooting\"></a>\n",
    "\n",
    "#### **2.2.3 Orthogonal Collocation** <a class=\"anchor\" id=\"orth_coll\"></a>\n",
    "\n",
    "\n",
    "### **2.4 Stability** <a class=\"anchor\" id=\"stability\"></a>"
   ]
  },
  {
   "cell_type": "markdown",
   "metadata": {},
   "source": []
  },
  {
   "cell_type": "code",
   "execution_count": null,
   "metadata": {},
   "outputs": [],
   "source": []
  }
 ],
 "metadata": {
  "kernelspec": {
   "display_name": "Python 3.7 (Coiot 2019/20",
   "language": "python",
   "name": "py37_coiot"
  },
  "language_info": {
   "codemirror_mode": {
    "name": "ipython",
    "version": 3
   },
   "file_extension": ".py",
   "mimetype": "text/x-python",
   "name": "python",
   "nbconvert_exporter": "python",
   "pygments_lexer": "ipython3",
   "version": "3.6.9"
  }
 },
 "nbformat": 4,
 "nbformat_minor": 2
}
